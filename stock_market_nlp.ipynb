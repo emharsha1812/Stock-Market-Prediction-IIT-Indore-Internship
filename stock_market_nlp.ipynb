{
 "cells": [
  {
   "cell_type": "code",
   "execution_count": 34,
   "id": "a28e558a",
   "metadata": {},
   "outputs": [
    {
     "name": "stderr",
     "output_type": "stream",
     "text": [
      "[nltk_data] Downloading package punkt to\n",
      "[nltk_data]     C:\\Users\\harsh\\AppData\\Roaming\\nltk_data...\n",
      "[nltk_data]   Package punkt is already up-to-date!\n",
      "[nltk_data] Downloading package wordnet to\n",
      "[nltk_data]     C:\\Users\\harsh\\AppData\\Roaming\\nltk_data...\n",
      "[nltk_data]   Package wordnet is already up-to-date!\n",
      "[nltk_data] Downloading package omw-1.4 to\n",
      "[nltk_data]     C:\\Users\\harsh\\AppData\\Roaming\\nltk_data...\n",
      "[nltk_data]   Package omw-1.4 is already up-to-date!\n"
     ]
    }
   ],
   "source": [
    "import pandas as pd\n",
    "import numpy as np\n",
    "import scipy\n",
    "import os\n",
    "import re\n",
    "import matplotlib.pyplot as plt\n",
    "%matplotlib inline\n",
    "import seaborn as sns\n",
    "import pickle\n",
    "\n",
    "\n",
    "\n",
    "import gensim\n",
    "from gensim import corpora, models, matutils\n",
    "from gensim.models import Word2Vec\n",
    "import nltk\n",
    "nltk.download('punkt')\n",
    "nltk.download('wordnet')\n",
    "nltk.download('omw-1.4')\n",
    "\n",
    "from nltk.tokenize import word_tokenize\n",
    "from nltk.corpus import stopwords\n",
    "from sklearn.feature_extraction import _stop_words\n",
    "from nltk.stem import WordNetLemmatizer\n",
    "\n",
    "\n",
    "from sklearn.preprocessing import StandardScaler\n",
    "from sklearn.model_selection import KFold\n",
    "from sklearn.model_selection import train_test_split\n",
    "from sklearn.feature_extraction.text import CountVectorizer\n",
    "from sklearn.feature_extraction.text import TfidfVectorizer"
   ]
  },
  {
   "cell_type": "code",
   "execution_count": 35,
   "id": "0b4874ee",
   "metadata": {},
   "outputs": [
    {
     "data": {
      "text/html": [
       "<div>\n",
       "<style scoped>\n",
       "    .dataframe tbody tr th:only-of-type {\n",
       "        vertical-align: middle;\n",
       "    }\n",
       "\n",
       "    .dataframe tbody tr th {\n",
       "        vertical-align: top;\n",
       "    }\n",
       "\n",
       "    .dataframe thead th {\n",
       "        text-align: right;\n",
       "    }\n",
       "</style>\n",
       "<table border=\"1\" class=\"dataframe\">\n",
       "  <thead>\n",
       "    <tr style=\"text-align: right;\">\n",
       "      <th></th>\n",
       "      <th>Date</th>\n",
       "      <th>Label</th>\n",
       "      <th>Top1</th>\n",
       "      <th>Top2</th>\n",
       "      <th>Top3</th>\n",
       "      <th>Top4</th>\n",
       "      <th>Top5</th>\n",
       "      <th>Top6</th>\n",
       "      <th>Top7</th>\n",
       "      <th>Top8</th>\n",
       "      <th>...</th>\n",
       "      <th>Top16</th>\n",
       "      <th>Top17</th>\n",
       "      <th>Top18</th>\n",
       "      <th>Top19</th>\n",
       "      <th>Top20</th>\n",
       "      <th>Top21</th>\n",
       "      <th>Top22</th>\n",
       "      <th>Top23</th>\n",
       "      <th>Top24</th>\n",
       "      <th>Top25</th>\n",
       "    </tr>\n",
       "  </thead>\n",
       "  <tbody>\n",
       "    <tr>\n",
       "      <th>0</th>\n",
       "      <td>2000-01-03</td>\n",
       "      <td>0</td>\n",
       "      <td>A 'hindrance to operations': extracts from the...</td>\n",
       "      <td>Scorecard</td>\n",
       "      <td>Hughes' instant hit buoys Blues</td>\n",
       "      <td>Jack gets his skates on at ice-cold Alex</td>\n",
       "      <td>Chaos as Maracana builds up for United</td>\n",
       "      <td>Depleted Leicester prevail as Elliott spoils E...</td>\n",
       "      <td>Hungry Spurs sense rich pickings</td>\n",
       "      <td>Gunners so wide of an easy target</td>\n",
       "      <td>...</td>\n",
       "      <td>Flintoff injury piles on woe for England</td>\n",
       "      <td>Hunters threaten Jospin with new battle of the...</td>\n",
       "      <td>Kohl's successor drawn into scandal</td>\n",
       "      <td>The difference between men and women</td>\n",
       "      <td>Sara Denver, nurse turned solicitor</td>\n",
       "      <td>Diana's landmine crusade put Tories in a panic</td>\n",
       "      <td>Yeltsin's resignation caught opposition flat-f...</td>\n",
       "      <td>Russian roulette</td>\n",
       "      <td>Sold out</td>\n",
       "      <td>Recovering a title</td>\n",
       "    </tr>\n",
       "    <tr>\n",
       "      <th>1</th>\n",
       "      <td>2000-01-04</td>\n",
       "      <td>0</td>\n",
       "      <td>Scorecard</td>\n",
       "      <td>The best lake scene</td>\n",
       "      <td>Leader: German sleaze inquiry</td>\n",
       "      <td>Cheerio, boyo</td>\n",
       "      <td>The main recommendations</td>\n",
       "      <td>Has Cubie killed fees?</td>\n",
       "      <td>Has Cubie killed fees?</td>\n",
       "      <td>Has Cubie killed fees?</td>\n",
       "      <td>...</td>\n",
       "      <td>On the critical list</td>\n",
       "      <td>The timing of their lives</td>\n",
       "      <td>Dear doctor</td>\n",
       "      <td>Irish court halts IRA man's extradition to Nor...</td>\n",
       "      <td>Burundi peace initiative fades after rebels re...</td>\n",
       "      <td>PE points the way forward to the ECB</td>\n",
       "      <td>Campaigners keep up pressure on Nazi war crime...</td>\n",
       "      <td>Jane Ratcliffe</td>\n",
       "      <td>Yet more things you wouldn't know without the ...</td>\n",
       "      <td>Millennium bug fails to bite</td>\n",
       "    </tr>\n",
       "  </tbody>\n",
       "</table>\n",
       "<p>2 rows × 27 columns</p>\n",
       "</div>"
      ],
      "text/plain": [
       "         Date Label                                               Top1  \\\n",
       "0  2000-01-03     0  A 'hindrance to operations': extracts from the...   \n",
       "1  2000-01-04     0                                          Scorecard   \n",
       "\n",
       "                  Top2                             Top3  \\\n",
       "0            Scorecard  Hughes' instant hit buoys Blues   \n",
       "1  The best lake scene    Leader: German sleaze inquiry   \n",
       "\n",
       "                                       Top4  \\\n",
       "0  Jack gets his skates on at ice-cold Alex   \n",
       "1                             Cheerio, boyo   \n",
       "\n",
       "                                     Top5  \\\n",
       "0  Chaos as Maracana builds up for United   \n",
       "1                The main recommendations   \n",
       "\n",
       "                                                Top6  \\\n",
       "0  Depleted Leicester prevail as Elliott spoils E...   \n",
       "1                             Has Cubie killed fees?   \n",
       "\n",
       "                               Top7                               Top8  ...  \\\n",
       "0  Hungry Spurs sense rich pickings  Gunners so wide of an easy target  ...   \n",
       "1            Has Cubie killed fees?             Has Cubie killed fees?  ...   \n",
       "\n",
       "                                      Top16  \\\n",
       "0  Flintoff injury piles on woe for England   \n",
       "1                      On the critical list   \n",
       "\n",
       "                                               Top17  \\\n",
       "0  Hunters threaten Jospin with new battle of the...   \n",
       "1                          The timing of their lives   \n",
       "\n",
       "                                 Top18  \\\n",
       "0  Kohl's successor drawn into scandal   \n",
       "1                          Dear doctor   \n",
       "\n",
       "                                               Top19  \\\n",
       "0               The difference between men and women   \n",
       "1  Irish court halts IRA man's extradition to Nor...   \n",
       "\n",
       "                                               Top20  \\\n",
       "0                Sara Denver, nurse turned solicitor   \n",
       "1  Burundi peace initiative fades after rebels re...   \n",
       "\n",
       "                                            Top21  \\\n",
       "0  Diana's landmine crusade put Tories in a panic   \n",
       "1            PE points the way forward to the ECB   \n",
       "\n",
       "                                               Top22             Top23  \\\n",
       "0  Yeltsin's resignation caught opposition flat-f...  Russian roulette   \n",
       "1  Campaigners keep up pressure on Nazi war crime...    Jane Ratcliffe   \n",
       "\n",
       "                                               Top24  \\\n",
       "0                                           Sold out   \n",
       "1  Yet more things you wouldn't know without the ...   \n",
       "\n",
       "                          Top25  \n",
       "0            Recovering a title  \n",
       "1  Millennium bug fails to bite  \n",
       "\n",
       "[2 rows x 27 columns]"
      ]
     },
     "execution_count": 35,
     "metadata": {},
     "output_type": "execute_result"
    }
   ],
   "source": [
    "df=pd.read_csv('stock_data_nlp.csv',encoding= 'unicode_escape')\n",
    "df.head(2)"
   ]
  },
  {
   "cell_type": "code",
   "execution_count": 36,
   "id": "6b861cf0",
   "metadata": {},
   "outputs": [
    {
     "data": {
      "text/plain": [
       "\"Hughes' instant hit buoys Blues\""
      ]
     },
     "execution_count": 36,
     "metadata": {},
     "output_type": "execute_result"
    }
   ],
   "source": [
    "df.iloc[0,4]"
   ]
  },
  {
   "cell_type": "code",
   "execution_count": 37,
   "id": "e5a9e55e",
   "metadata": {},
   "outputs": [
    {
     "data": {
      "text/plain": [
       "(4262, 27)"
      ]
     },
     "execution_count": 37,
     "metadata": {},
     "output_type": "execute_result"
    }
   ],
   "source": [
    "df.shape"
   ]
  },
  {
   "cell_type": "code",
   "execution_count": 38,
   "id": "d7f95833",
   "metadata": {},
   "outputs": [
    {
     "name": "stdout",
     "output_type": "stream",
     "text": [
      "<class 'pandas.core.frame.DataFrame'>\n",
      "RangeIndex: 4262 entries, 0 to 4261\n",
      "Data columns (total 27 columns):\n",
      " #   Column  Non-Null Count  Dtype \n",
      "---  ------  --------------  ----- \n",
      " 0   Date    4262 non-null   object\n",
      " 1   Label   4214 non-null   object\n",
      " 2   Top1    4210 non-null   object\n",
      " 3   Top2    4202 non-null   object\n",
      " 4   Top3    4192 non-null   object\n",
      " 5   Top4    4169 non-null   object\n",
      " 6   Top5    4158 non-null   object\n",
      " 7   Top6    4151 non-null   object\n",
      " 8   Top7    4144 non-null   object\n",
      " 9   Top8    4135 non-null   object\n",
      " 10  Top9    4127 non-null   object\n",
      " 11  Top10   4118 non-null   object\n",
      " 12  Top11   4106 non-null   object\n",
      " 13  Top12   4100 non-null   object\n",
      " 14  Top13   4091 non-null   object\n",
      " 15  Top14   4083 non-null   object\n",
      " 16  Top15   4075 non-null   object\n",
      " 17  Top16   4071 non-null   object\n",
      " 18  Top17   4064 non-null   object\n",
      " 19  Top18   4054 non-null   object\n",
      " 20  Top19   4049 non-null   object\n",
      " 21  Top20   4040 non-null   object\n",
      " 22  Top21   4030 non-null   object\n",
      " 23  Top22   4016 non-null   object\n",
      " 24  Top23   4010 non-null   object\n",
      " 25  Top24   4006 non-null   object\n",
      " 26  Top25   4004 non-null   object\n",
      "dtypes: object(27)\n",
      "memory usage: 899.1+ KB\n"
     ]
    }
   ],
   "source": [
    "df.info()"
   ]
  },
  {
   "cell_type": "code",
   "execution_count": 39,
   "id": "e79b83ec",
   "metadata": {},
   "outputs": [
    {
     "data": {
      "text/plain": [
       "1                                                                                                                                                                                                                                                                                                     2166\n",
       "0                                                                                                                                                                                                                                                                                                     1935\n",
       "b'FBI arrests 10 Russian Spies in U.S.'                                                                                                                                                                                                                                                                  1\n",
       "b'PHILIPPINES Key witness in the Maguindanao massacre case killed'                                                                                                                                                                                                                                       1\n",
       "b\"Assisted suicide: law to be decriminalised 'by back door' from next week\"                                                                                                                                                                                                                              1\n",
       "                                                                                                                                                                                                                                                                                                      ... \n",
       "b'Hacker infiltrates the Sky News website and tampered with a petition to support the proposed television debate between the main party leaders, renaming it \"The Windbag Debate Petition\". '                                                                                                            1\n",
       "b'MYANMAR About 5 billion dollars from Total and Chevron flow into juntas secret accounts'                                                                                                                                                                                                               1\n",
       "b'North Korea Close To Finalising Nuclear Enrichment'                                                                                                                                                                                                                                                    1\n",
       "b'The war on drugs is immoral idiocy: While Latin American countries decriminalise narcotics, Britain persists in prohibition that causes vast human suffering'                                                                                                                                          1\n",
       "b'This depression is similar to the Great Panic of 1873; The US and Europe are heading towards deflation, tens of millions will never work again. \"It is the victory of an orthodoxy [..] whose main tenet is that imposing suffering on other people is how you show leadership in tough times.\"'       1\n",
       "Name: Label, Length: 115, dtype: int64"
      ]
     },
     "execution_count": 39,
     "metadata": {},
     "output_type": "execute_result"
    }
   ],
   "source": [
    "df.Label.value_counts()"
   ]
  },
  {
   "cell_type": "code",
   "execution_count": 40,
   "id": "c3d0c198",
   "metadata": {},
   "outputs": [],
   "source": [
    "#remove the date column\n",
    "#the stock close trend is directly affected by the news from the same day\n",
    "df=df.drop(['Date'],axis=1)"
   ]
  },
  {
   "cell_type": "code",
   "execution_count": 41,
   "id": "f4b0fa0e",
   "metadata": {},
   "outputs": [
    {
     "data": {
      "text/html": [
       "<div>\n",
       "<style scoped>\n",
       "    .dataframe tbody tr th:only-of-type {\n",
       "        vertical-align: middle;\n",
       "    }\n",
       "\n",
       "    .dataframe tbody tr th {\n",
       "        vertical-align: top;\n",
       "    }\n",
       "\n",
       "    .dataframe thead th {\n",
       "        text-align: right;\n",
       "    }\n",
       "</style>\n",
       "<table border=\"1\" class=\"dataframe\">\n",
       "  <thead>\n",
       "    <tr style=\"text-align: right;\">\n",
       "      <th></th>\n",
       "      <th>Label</th>\n",
       "      <th>Top1</th>\n",
       "      <th>Top2</th>\n",
       "      <th>Top3</th>\n",
       "      <th>Top4</th>\n",
       "      <th>Top5</th>\n",
       "      <th>Top6</th>\n",
       "      <th>Top7</th>\n",
       "      <th>Top8</th>\n",
       "      <th>Top9</th>\n",
       "      <th>...</th>\n",
       "      <th>Top16</th>\n",
       "      <th>Top17</th>\n",
       "      <th>Top18</th>\n",
       "      <th>Top19</th>\n",
       "      <th>Top20</th>\n",
       "      <th>Top21</th>\n",
       "      <th>Top22</th>\n",
       "      <th>Top23</th>\n",
       "      <th>Top24</th>\n",
       "      <th>Top25</th>\n",
       "    </tr>\n",
       "  </thead>\n",
       "  <tbody>\n",
       "    <tr>\n",
       "      <th>0</th>\n",
       "      <td>0</td>\n",
       "      <td>A 'hindrance to operations': extracts from the...</td>\n",
       "      <td>Scorecard</td>\n",
       "      <td>Hughes' instant hit buoys Blues</td>\n",
       "      <td>Jack gets his skates on at ice-cold Alex</td>\n",
       "      <td>Chaos as Maracana builds up for United</td>\n",
       "      <td>Depleted Leicester prevail as Elliott spoils E...</td>\n",
       "      <td>Hungry Spurs sense rich pickings</td>\n",
       "      <td>Gunners so wide of an easy target</td>\n",
       "      <td>Derby raise a glass to Strupar's debut double</td>\n",
       "      <td>...</td>\n",
       "      <td>Flintoff injury piles on woe for England</td>\n",
       "      <td>Hunters threaten Jospin with new battle of the...</td>\n",
       "      <td>Kohl's successor drawn into scandal</td>\n",
       "      <td>The difference between men and women</td>\n",
       "      <td>Sara Denver, nurse turned solicitor</td>\n",
       "      <td>Diana's landmine crusade put Tories in a panic</td>\n",
       "      <td>Yeltsin's resignation caught opposition flat-f...</td>\n",
       "      <td>Russian roulette</td>\n",
       "      <td>Sold out</td>\n",
       "      <td>Recovering a title</td>\n",
       "    </tr>\n",
       "    <tr>\n",
       "      <th>1</th>\n",
       "      <td>0</td>\n",
       "      <td>Scorecard</td>\n",
       "      <td>The best lake scene</td>\n",
       "      <td>Leader: German sleaze inquiry</td>\n",
       "      <td>Cheerio, boyo</td>\n",
       "      <td>The main recommendations</td>\n",
       "      <td>Has Cubie killed fees?</td>\n",
       "      <td>Has Cubie killed fees?</td>\n",
       "      <td>Has Cubie killed fees?</td>\n",
       "      <td>Hopkins 'furious' at Foster's lack of Hannibal...</td>\n",
       "      <td>...</td>\n",
       "      <td>On the critical list</td>\n",
       "      <td>The timing of their lives</td>\n",
       "      <td>Dear doctor</td>\n",
       "      <td>Irish court halts IRA man's extradition to Nor...</td>\n",
       "      <td>Burundi peace initiative fades after rebels re...</td>\n",
       "      <td>PE points the way forward to the ECB</td>\n",
       "      <td>Campaigners keep up pressure on Nazi war crime...</td>\n",
       "      <td>Jane Ratcliffe</td>\n",
       "      <td>Yet more things you wouldn't know without the ...</td>\n",
       "      <td>Millennium bug fails to bite</td>\n",
       "    </tr>\n",
       "    <tr>\n",
       "      <th>2</th>\n",
       "      <td>0</td>\n",
       "      <td>Coventry caught on counter by Flo</td>\n",
       "      <td>United's rivals on the road to Rio</td>\n",
       "      <td>Thatcher issues defence before trial by video</td>\n",
       "      <td>Police help Smith lay down the law at Everton</td>\n",
       "      <td>Tale of Trautmann bears two more retellings</td>\n",
       "      <td>England on the rack</td>\n",
       "      <td>Pakistan retaliate with call for video of Walsh</td>\n",
       "      <td>Cullinan continues his Cape monopoly</td>\n",
       "      <td>McGrath puts India out of their misery</td>\n",
       "      <td>...</td>\n",
       "      <td>South Melbourne (Australia)</td>\n",
       "      <td>Necaxa (Mexico)</td>\n",
       "      <td>Real Madrid (Spain)</td>\n",
       "      <td>Raja Casablanca (Morocco)</td>\n",
       "      <td>Corinthians (Brazil)</td>\n",
       "      <td>Tony's pet project</td>\n",
       "      <td>Al Nassr (Saudi Arabia)</td>\n",
       "      <td>Ideal Holmes show</td>\n",
       "      <td>Pinochet leaves hospital after tests</td>\n",
       "      <td>Useful links</td>\n",
       "    </tr>\n",
       "    <tr>\n",
       "      <th>3</th>\n",
       "      <td>1</td>\n",
       "      <td>Pilgrim knows how to progress</td>\n",
       "      <td>Thatcher facing ban</td>\n",
       "      <td>McIlroy calls for Irish fighting spirit</td>\n",
       "      <td>Leicester bin stadium blueprint</td>\n",
       "      <td>United braced for Mexican wave</td>\n",
       "      <td>Auntie back in fashion, even if the dress look...</td>\n",
       "      <td>Shoaib appeal goes to the top</td>\n",
       "      <td>Hussain hurt by 'shambles' but lays blame on e...</td>\n",
       "      <td>England's decade of disasters</td>\n",
       "      <td>...</td>\n",
       "      <td>Putin admits Yeltsin quit to give him a head s...</td>\n",
       "      <td>BBC worst hit as digital TV begins to bite</td>\n",
       "      <td>How much can you pay for...</td>\n",
       "      <td>Christmas glitches</td>\n",
       "      <td>Upending a table, Chopping a line and Scoring ...</td>\n",
       "      <td>Scientific evidence 'unreliable', defence claims</td>\n",
       "      <td>Fusco wins judicial review in extradition case</td>\n",
       "      <td>Rebels thwart Russian advance</td>\n",
       "      <td>Blair orders shake-up of failing NHS</td>\n",
       "      <td>Lessons of law's hard heart</td>\n",
       "    </tr>\n",
       "    <tr>\n",
       "      <th>4</th>\n",
       "      <td>1</td>\n",
       "      <td>Hitches and Horlocks</td>\n",
       "      <td>Beckham off but United survive</td>\n",
       "      <td>Breast cancer screening</td>\n",
       "      <td>Alan Parker</td>\n",
       "      <td>Guardian readers: are you all whingers?</td>\n",
       "      <td>Hollywood Beyond</td>\n",
       "      <td>Ashes and diamonds</td>\n",
       "      <td>Whingers - a formidable minority</td>\n",
       "      <td>Alan Parker - part two</td>\n",
       "      <td>...</td>\n",
       "      <td>Most everywhere:  UDIs</td>\n",
       "      <td>Most wanted:  Chloe lunettes</td>\n",
       "      <td>Return of the cane 'completely off the agenda'</td>\n",
       "      <td>From Sleepy Hollow to Greeneland</td>\n",
       "      <td>Blunkett outlines vision for over 11s</td>\n",
       "      <td>Embattled Dobson attacks 'play now, pay later'...</td>\n",
       "      <td>Doom and the Dome</td>\n",
       "      <td>What is the north-south divide?</td>\n",
       "      <td>Aitken released from jail</td>\n",
       "      <td>Gone aloft</td>\n",
       "    </tr>\n",
       "  </tbody>\n",
       "</table>\n",
       "<p>5 rows × 26 columns</p>\n",
       "</div>"
      ],
      "text/plain": [
       "  Label                                               Top1  \\\n",
       "0     0  A 'hindrance to operations': extracts from the...   \n",
       "1     0                                          Scorecard   \n",
       "2     0                  Coventry caught on counter by Flo   \n",
       "3     1                      Pilgrim knows how to progress   \n",
       "4     1                               Hitches and Horlocks   \n",
       "\n",
       "                                 Top2  \\\n",
       "0                           Scorecard   \n",
       "1                 The best lake scene   \n",
       "2  United's rivals on the road to Rio   \n",
       "3                 Thatcher facing ban   \n",
       "4      Beckham off but United survive   \n",
       "\n",
       "                                            Top3  \\\n",
       "0                Hughes' instant hit buoys Blues   \n",
       "1                  Leader: German sleaze inquiry   \n",
       "2  Thatcher issues defence before trial by video   \n",
       "3        McIlroy calls for Irish fighting spirit   \n",
       "4                        Breast cancer screening   \n",
       "\n",
       "                                            Top4  \\\n",
       "0       Jack gets his skates on at ice-cold Alex   \n",
       "1                                  Cheerio, boyo   \n",
       "2  Police help Smith lay down the law at Everton   \n",
       "3                Leicester bin stadium blueprint   \n",
       "4                                    Alan Parker   \n",
       "\n",
       "                                          Top5  \\\n",
       "0       Chaos as Maracana builds up for United   \n",
       "1                     The main recommendations   \n",
       "2  Tale of Trautmann bears two more retellings   \n",
       "3               United braced for Mexican wave   \n",
       "4      Guardian readers: are you all whingers?   \n",
       "\n",
       "                                                Top6  \\\n",
       "0  Depleted Leicester prevail as Elliott spoils E...   \n",
       "1                             Has Cubie killed fees?   \n",
       "2                                England on the rack   \n",
       "3  Auntie back in fashion, even if the dress look...   \n",
       "4                                   Hollywood Beyond   \n",
       "\n",
       "                                              Top7  \\\n",
       "0                 Hungry Spurs sense rich pickings   \n",
       "1                           Has Cubie killed fees?   \n",
       "2  Pakistan retaliate with call for video of Walsh   \n",
       "3                    Shoaib appeal goes to the top   \n",
       "4                               Ashes and diamonds   \n",
       "\n",
       "                                                Top8  \\\n",
       "0                  Gunners so wide of an easy target   \n",
       "1                             Has Cubie killed fees?   \n",
       "2               Cullinan continues his Cape monopoly   \n",
       "3  Hussain hurt by 'shambles' but lays blame on e...   \n",
       "4                   Whingers - a formidable minority   \n",
       "\n",
       "                                                Top9  ...  \\\n",
       "0      Derby raise a glass to Strupar's debut double  ...   \n",
       "1  Hopkins 'furious' at Foster's lack of Hannibal...  ...   \n",
       "2             McGrath puts India out of their misery  ...   \n",
       "3                      England's decade of disasters  ...   \n",
       "4                             Alan Parker - part two  ...   \n",
       "\n",
       "                                               Top16  \\\n",
       "0           Flintoff injury piles on woe for England   \n",
       "1                               On the critical list   \n",
       "2                        South Melbourne (Australia)   \n",
       "3  Putin admits Yeltsin quit to give him a head s...   \n",
       "4                             Most everywhere:  UDIs   \n",
       "\n",
       "                                               Top17  \\\n",
       "0  Hunters threaten Jospin with new battle of the...   \n",
       "1                          The timing of their lives   \n",
       "2                                    Necaxa (Mexico)   \n",
       "3         BBC worst hit as digital TV begins to bite   \n",
       "4                       Most wanted:  Chloe lunettes   \n",
       "\n",
       "                                            Top18  \\\n",
       "0             Kohl's successor drawn into scandal   \n",
       "1                                     Dear doctor   \n",
       "2                             Real Madrid (Spain)   \n",
       "3                     How much can you pay for...   \n",
       "4  Return of the cane 'completely off the agenda'   \n",
       "\n",
       "                                               Top19  \\\n",
       "0               The difference between men and women   \n",
       "1  Irish court halts IRA man's extradition to Nor...   \n",
       "2                          Raja Casablanca (Morocco)   \n",
       "3                                 Christmas glitches   \n",
       "4                   From Sleepy Hollow to Greeneland   \n",
       "\n",
       "                                               Top20  \\\n",
       "0                Sara Denver, nurse turned solicitor   \n",
       "1  Burundi peace initiative fades after rebels re...   \n",
       "2                               Corinthians (Brazil)   \n",
       "3  Upending a table, Chopping a line and Scoring ...   \n",
       "4              Blunkett outlines vision for over 11s   \n",
       "\n",
       "                                               Top21  \\\n",
       "0     Diana's landmine crusade put Tories in a panic   \n",
       "1               PE points the way forward to the ECB   \n",
       "2                                 Tony's pet project   \n",
       "3   Scientific evidence 'unreliable', defence claims   \n",
       "4  Embattled Dobson attacks 'play now, pay later'...   \n",
       "\n",
       "                                               Top22  \\\n",
       "0  Yeltsin's resignation caught opposition flat-f...   \n",
       "1  Campaigners keep up pressure on Nazi war crime...   \n",
       "2                            Al Nassr (Saudi Arabia)   \n",
       "3     Fusco wins judicial review in extradition case   \n",
       "4                                  Doom and the Dome   \n",
       "\n",
       "                             Top23  \\\n",
       "0                 Russian roulette   \n",
       "1                   Jane Ratcliffe   \n",
       "2                Ideal Holmes show   \n",
       "3    Rebels thwart Russian advance   \n",
       "4  What is the north-south divide?   \n",
       "\n",
       "                                               Top24  \\\n",
       "0                                           Sold out   \n",
       "1  Yet more things you wouldn't know without the ...   \n",
       "2               Pinochet leaves hospital after tests   \n",
       "3               Blair orders shake-up of failing NHS   \n",
       "4                          Aitken released from jail   \n",
       "\n",
       "                          Top25  \n",
       "0            Recovering a title  \n",
       "1  Millennium bug fails to bite  \n",
       "2                  Useful links  \n",
       "3   Lessons of law's hard heart  \n",
       "4                    Gone aloft  \n",
       "\n",
       "[5 rows x 26 columns]"
      ]
     },
     "execution_count": 41,
     "metadata": {},
     "output_type": "execute_result"
    }
   ],
   "source": [
    "df.head()"
   ]
  },
  {
   "cell_type": "code",
   "execution_count": 42,
   "id": "cf742947",
   "metadata": {},
   "outputs": [],
   "source": [
    "# combine all 25 news of the same day into a long string for doc2vec and vectorize\n",
    "combine_news=[]\n",
    "\n",
    "for index,row in df.iterrows():\n",
    "    combine_news.append(' '.join(str(x) for x in row[1:]))\n",
    "\n",
    "df['news']=pd.DataFrame(combine_news)\n",
    "    "
   ]
  },
  {
   "cell_type": "code",
   "execution_count": 43,
   "id": "5a9222cd",
   "metadata": {},
   "outputs": [
    {
     "data": {
      "text/plain": [
       "\"Scorecard The best lake scene Leader: German sleaze inquiry Cheerio, boyo The main recommendations Has Cubie killed fees? Has Cubie killed fees? Has Cubie killed fees? Hopkins 'furious' at Foster's lack of Hannibal appetite Has Cubie killed fees? A tale of two tails I say what I like and I like what I say Elbows, Eyes and Nipples Task force to assess risk of asteroid collision How I found myself at last On the critical list The timing of their lives Dear doctor Irish court halts IRA man's extradition to Northern Ireland Burundi peace initiative fades after rebels reject Mandela as mediator PE points the way forward to the ECB Campaigners keep up pressure on Nazi war crimes suspect Jane Ratcliffe Yet more things you wouldn't know without the movies Millennium bug fails to bite\""
      ]
     },
     "execution_count": 43,
     "metadata": {},
     "output_type": "execute_result"
    }
   ],
   "source": [
    "df.loc[1,'news']"
   ]
  },
  {
   "cell_type": "code",
   "execution_count": 44,
   "id": "6f6d4de5",
   "metadata": {},
   "outputs": [
    {
     "data": {
      "text/plain": [
       "array([' A.I.', ' M.A.N.D.Y.', ' U.N.', ' U.S.', ' U.K.', ' S.A.',\n",
       "       ' U.S.C.', ' D.C.', ' N.J.', ' i.e.', ' P.I.', ' A.N.C.', ' a.m.',\n",
       "       ' A.K.A.', ' P.R.', ' R.I.', ' E.U.', ' H.I.V.', ' I.H.T.',\n",
       "       ' B.C.', ' J.P.', ' N.S.', 'crimese.g.', ' C.I.A.', ' p.m.',\n",
       "       'Ph.D.', ' N.Y.', ' U.A.E.', 'sq.m.', ' I.M.F.', ' y.o.', ' i.a.',\n",
       "       ' I.D.', ' M.A.', ' H.W.', ' O.K.', ' N.K.', ' B.S.', ' A.T.M.',\n",
       "       ' W.H.O.', ' N.S.A.', ' P.M.', ' F.B.I.', ' P.E.I.', ' a.k.a.',\n",
       "       ' S.E.', ' A.D.', ' T.B.', ' J.K.', ' L.G.B.T.'], dtype=object)"
      ]
     },
     "execution_count": 44,
     "metadata": {},
     "output_type": "execute_result"
    }
   ],
   "source": [
    "# Find all the 2/3 character abbrevations from the string corpus. Convert them to full form. \n",
    "# Then we can remove the punctuations without worrying losing the meaning of the abbrevation words.\n",
    "\n",
    "# combine all the news into a very long string\n",
    "long_news_str = '   '.join(df.news)\n",
    "\n",
    "# find all the abbrevations of 2 and 3 characters\n",
    "def find_abbr(text):\n",
    "    abbr = []\n",
    "    for i in re.finditer(r\"([A-Za-z]+| )([A-Za-z]\\.){2,}\", text):\n",
    "        abbr.append(i.group())\n",
    "    df_abbr = pd.Series(abbr)\n",
    "    return df_abbr.unique()\n",
    "\n",
    "find_abbr(long_news_str)"
   ]
  },
  {
   "cell_type": "code",
   "execution_count": 45,
   "id": "af30d528",
   "metadata": {},
   "outputs": [],
   "source": [
    "# get ready stop words for the tokenization function below\n",
    "mywords = ['breaking','whilst', 'say', 'says', 'today','yesterday', 'news', 'tomorrow','iii', 'ii', 'like', 'ha',]\n",
    "final_stop = stopwords.words('english') + mywords"
   ]
  },
  {
   "cell_type": "code",
   "execution_count": 46,
   "id": "b96097af",
   "metadata": {},
   "outputs": [],
   "source": [
    "def text_to_wordlist(text, remove_stop_words=True, lemma_words=True):\n",
    "    \n",
    "    ''' Clean each document into a list of words:\n",
    "    1. convert abbrevations to full words\n",
    "    2. tokenize the text\n",
    "    3. remove non-alphabetic characters and one-letter words, including numbers and punctuations\n",
    "    4. remove stop words\n",
    "    '''\n",
    "    # clean the text, convert only the abbrs that are meaningful\n",
    "    text = re.sub(r\" A.T.M. \", \" Automated Teller Machine \", text)\n",
    "    text = re.sub(r\" C.I.A. \", \" Central Intelligence Agency \", text)\n",
    "    text = re.sub(r\" D.C. \", \" District of columbia \", text)\n",
    "    text = re.sub(r\" E.U. \", \" Europian Union \", text)\n",
    "    text = re.sub(r\" F.B.I. \", \" Federal Bureau of Investigation \", text)\n",
    "    text = re.sub(r\" H.I.V. \", \" Human immunodeficiency virus \", text)\n",
    "    text = re.sub(r\" I.H.T. \", \" inheritance tax \", text)\n",
    "    text = re.sub(r\" I.M.F. \", \" International Monetary Fund \", text)\n",
    "    text = re.sub(r\" I.D. \", \" identification \", text)\n",
    "    text = re.sub(r\" L.G.B.T. \", \" minority \", text)\n",
    "    text = re.sub(r\" M.A. \", \" Massachusetts \", text)\n",
    "    text = re.sub(r\" N.J. \", \" new jersey \", text)\n",
    "    text = re.sub(r\" N.K. \", \" north korea \", text)\n",
    "    text = re.sub(r\" N.S.A. \", \" National Security Agency \", text)\n",
    "    text = re.sub(r\" N.Y. \", \" new york \", text)\n",
    "    text = re.sub(r\" P.E.I. \", \" Prince Edward Island \", text)\n",
    "    text = re.sub(r\" P.M. \", \" prime minister \", text)\n",
    "    text = re.sub(r\" P.R.C \", \" china \", text)\n",
    "    text = re.sub(r\" S.A. \", \" south africa \", text)\n",
    "    text = re.sub(r\" R.I. \", \" Rhode Island \", text)\n",
    "    text = re.sub(r\" U.A.E. \", \" United Arab Emirates \", text)\n",
    "    text = re.sub(r\" U.K. \", \" england \", text)\n",
    "    text = re.sub(r\" U.N. \", \" new jersey \", text)\n",
    "    text = re.sub(r\" U.S. \", \" america \", text)\n",
    "    text = re.sub(r\" U.S.C. \", \" university of south california \", text)\n",
    "    text = re.sub(r\" W.H.O \", \" world health organization \", text)\n",
    "    text = re.sub(r\" a.m. \", \" morning \", text)\n",
    "    text = re.sub(r\" p.m. \", \" afternoon \", text)\n",
    "    text = re.sub(r\" Ph.D. \", \" doctor of philosophy \", text)\n",
    "    text = re.sub(r\" sq.m. \", \" square meter \", text)\n",
    "    \n",
    "    # Tokenize the string into word tokens\n",
    "    tokens = word_tokenize(text)\n",
    "    \n",
    "    # further clean the tokens: split toekns like \"b'Russia\" which still have punctuations in the token\n",
    "    ls = []\n",
    "    for word in tokens:\n",
    "        if \"'\" in word:\n",
    "            ls = ls + word.split(\"'\")\n",
    "    tokens = tokens + ls\n",
    "    \n",
    "    # Optionally, shorten words to their stems\n",
    "    if lemma_words:\n",
    "        tokens = [WordNetLemmatizer().lemmatize(word) for word in tokens]\n",
    "    \n",
    "    #Remove one letter tokens & non-alphabetic tokens, such as punctuation, then lower the tokens\n",
    "    tokens = [word.lower() for word in tokens if (word.isalpha() and len(word)>1)]\n",
    "\n",
    "    # remove stop words  \n",
    "    if remove_stop_words:\n",
    "        tokens = [word for word in tokens if word not in final_stop]\n",
    "               \n",
    "    return tokens"
   ]
  },
  {
   "cell_type": "code",
   "execution_count": 47,
   "id": "7f3d40bb",
   "metadata": {},
   "outputs": [],
   "source": [
    "# convert each document to list of words\n",
    "df.news = df.news.apply(lambda x: text_to_wordlist(x))"
   ]
  },
  {
   "cell_type": "code",
   "execution_count": 48,
   "id": "3db9221a",
   "metadata": {},
   "outputs": [
    {
     "data": {
      "text/plain": [
       "['scorecard',\n",
       " 'best',\n",
       " 'lake',\n",
       " 'scene',\n",
       " 'leader',\n",
       " 'german',\n",
       " 'sleaze',\n",
       " 'inquiry',\n",
       " 'cheerio',\n",
       " 'boyo',\n",
       " 'main',\n",
       " 'recommendation',\n",
       " 'cubie',\n",
       " 'killed',\n",
       " 'fee',\n",
       " 'cubie',\n",
       " 'killed',\n",
       " 'fee',\n",
       " 'cubie',\n",
       " 'killed',\n",
       " 'fee',\n",
       " 'hopkins',\n",
       " 'foster',\n",
       " 'lack',\n",
       " 'hannibal',\n",
       " 'appetite',\n",
       " 'cubie',\n",
       " 'killed',\n",
       " 'fee',\n",
       " 'tale',\n",
       " 'two',\n",
       " 'tail',\n",
       " 'elbows',\n",
       " 'eyes',\n",
       " 'nipples',\n",
       " 'task',\n",
       " 'force',\n",
       " 'ass',\n",
       " 'risk',\n",
       " 'asteroid',\n",
       " 'collision',\n",
       " 'found',\n",
       " 'last',\n",
       " 'critical',\n",
       " 'list',\n",
       " 'timing',\n",
       " 'life',\n",
       " 'dear',\n",
       " 'doctor',\n",
       " 'irish',\n",
       " 'court',\n",
       " 'halt',\n",
       " 'ira',\n",
       " 'man',\n",
       " 'extradition',\n",
       " 'northern',\n",
       " 'ireland',\n",
       " 'burundi',\n",
       " 'peace',\n",
       " 'initiative',\n",
       " 'fade',\n",
       " 'rebel',\n",
       " 'reject',\n",
       " 'mandela',\n",
       " 'mediator',\n",
       " 'pe',\n",
       " 'point',\n",
       " 'way',\n",
       " 'forward',\n",
       " 'ecb',\n",
       " 'campaigners',\n",
       " 'keep',\n",
       " 'pressure',\n",
       " 'nazi',\n",
       " 'war',\n",
       " 'crime',\n",
       " 'suspect',\n",
       " 'jane',\n",
       " 'ratcliffe',\n",
       " 'yet',\n",
       " 'thing',\n",
       " 'would',\n",
       " 'know',\n",
       " 'without',\n",
       " 'movie',\n",
       " 'millennium',\n",
       " 'bug',\n",
       " 'fails',\n",
       " 'bite',\n",
       " 'furious']"
      ]
     },
     "execution_count": 48,
     "metadata": {},
     "output_type": "execute_result"
    }
   ],
   "source": [
    "df.news[1]"
   ]
  },
  {
   "cell_type": "code",
   "execution_count": 49,
   "id": "716a9a82",
   "metadata": {},
   "outputs": [],
   "source": [
    "#save it in a binary format for future use\n",
    "with open('news_wordlists.pkl', 'wb') as f:\n",
    "    pickle.dump(df, f)\n"
   ]
  },
  {
   "cell_type": "markdown",
   "id": "7c13f755",
   "metadata": {},
   "source": [
    "## Word2Vec"
   ]
  },
  {
   "cell_type": "code",
   "execution_count": 50,
   "id": "d251a488",
   "metadata": {},
   "outputs": [],
   "source": [
    "import gensim.downloader as api"
   ]
  },
  {
   "cell_type": "code",
   "execution_count": 51,
   "id": "d9b0d2f6",
   "metadata": {},
   "outputs": [],
   "source": [
    "corpus=api.load('text8')"
   ]
  },
  {
   "cell_type": "code",
   "execution_count": 52,
   "id": "c6999043",
   "metadata": {},
   "outputs": [],
   "source": [
    "from gensim.models.word2vec import Word2Vec\n",
    "model = Word2Vec(corpus)"
   ]
  },
  {
   "cell_type": "code",
   "execution_count": 53,
   "id": "b60ade39",
   "metadata": {},
   "outputs": [
    {
     "name": "stdout",
     "output_type": "stream",
     "text": [
      "[-2.5987175  -0.80587035 -0.95448065 -0.17584535  1.6402586   0.33239534\n",
      "  1.1494983   3.3212457   1.9735862  -0.4362271   3.8091543   1.1619183\n",
      "  1.3889115   1.5659521   1.230937    0.32075545 -1.8033501   0.90502316\n",
      " -1.4257812  -0.501368    2.5661654  -1.4362558   1.879667    3.1524096\n",
      " -0.02955896  3.4237106  -1.6533194   1.4799217   0.04200808  3.9440286\n",
      "  0.8556895  -1.6349654   2.6019468   0.5151551  -2.0577474  -3.57819\n",
      "  1.4142251   0.33669686 -0.33714932  0.9488706  -0.15732737 -0.03520306\n",
      "  3.4817674   0.8645772   1.0778284  -1.4529687  -0.52199686 -0.19434701\n",
      "  1.4835919   0.70183843  0.8874306  -0.48945007  2.863426    2.3381586\n",
      " -0.21219166  0.459196   -0.16720808  1.2715899   2.179649    1.1103697\n",
      " -1.6399026  -1.2264462   0.9928434   0.87965554  0.96227074  2.5315156\n",
      " -0.17717327 -1.4707731  -0.5855103  -0.5886246  -0.9540854   1.0524472\n",
      " -0.23737822 -1.9311324  -0.5570113   0.7065351  -1.2808826   1.2223835\n",
      " -1.3368782   2.60954    -1.8873404  -1.5932667   0.88349825  0.8425605\n",
      "  0.04898529 -0.14454682  1.0648732  -0.58171177 -0.88856214 -0.7398499\n",
      " -0.574024    0.44339123  0.73527867  1.1003745   4.1019926  -2.0931146\n",
      "  0.3009087   1.0090235  -0.6958944   3.526574  ]\n"
     ]
    }
   ],
   "source": [
    "economy=model.wv.get_vector('south')\n",
    "print(economy)"
   ]
  },
  {
   "cell_type": "code",
   "execution_count": 54,
   "id": "430f8e9c",
   "metadata": {},
   "outputs": [],
   "source": [
    "\n",
    "\n",
    "\n",
    "\n",
    "\n",
    "\n",
    "def doc2vec(model,wordlist):\n",
    "    vector_list=[model.wv.get_vector(word) for word in wordlist if word in model.wv]\n",
    "    doc_vector=np.mean(vector_list,axis=0)\n",
    "    return doc_vector\n"
   ]
  },
  {
   "cell_type": "code",
   "execution_count": 55,
   "id": "36eaf36d",
   "metadata": {},
   "outputs": [],
   "source": [
    "# convert each document (list of words) to a document vecter, then save into a list of doc_vec\n",
    "x_doc = [doc2vec(model, doc) for doc in df.news]  \n",
    "X_doc= pd.Series(x_doc, name = 'doc_vec') # list to df"
   ]
  },
  {
   "cell_type": "code",
   "execution_count": 56,
   "id": "15d89cbe",
   "metadata": {},
   "outputs": [
    {
     "data": {
      "text/plain": [
       "(4262,)"
      ]
     },
     "execution_count": 56,
     "metadata": {},
     "output_type": "execute_result"
    }
   ],
   "source": [
    "X_doc.shape"
   ]
  },
  {
   "cell_type": "code",
   "execution_count": null,
   "id": "5271c9de",
   "metadata": {},
   "outputs": [],
   "source": []
  },
  {
   "cell_type": "code",
   "execution_count": null,
   "id": "be700cf9",
   "metadata": {},
   "outputs": [],
   "source": []
  },
  {
   "cell_type": "code",
   "execution_count": 57,
   "id": "f3f8e29e",
   "metadata": {},
   "outputs": [
    {
     "data": {
      "text/html": [
       "<div>\n",
       "<style scoped>\n",
       "    .dataframe tbody tr th:only-of-type {\n",
       "        vertical-align: middle;\n",
       "    }\n",
       "\n",
       "    .dataframe tbody tr th {\n",
       "        vertical-align: top;\n",
       "    }\n",
       "\n",
       "    .dataframe thead th {\n",
       "        text-align: right;\n",
       "    }\n",
       "</style>\n",
       "<table border=\"1\" class=\"dataframe\">\n",
       "  <thead>\n",
       "    <tr style=\"text-align: right;\">\n",
       "      <th></th>\n",
       "      <th>Label</th>\n",
       "      <th>news</th>\n",
       "      <th>doc_vec</th>\n",
       "      <th>news_str</th>\n",
       "    </tr>\n",
       "  </thead>\n",
       "  <tbody>\n",
       "    <tr>\n",
       "      <th>0</th>\n",
       "      <td>0</td>\n",
       "      <td>[operation, extract, leaked, report, scorecard...</td>\n",
       "      <td>[-0.22363636, 0.043663323, 0.40945154, -0.0905...</td>\n",
       "      <td>operation extract leaked report scorecard hugh...</td>\n",
       "    </tr>\n",
       "    <tr>\n",
       "      <th>1</th>\n",
       "      <td>0</td>\n",
       "      <td>[scorecard, best, lake, scene, leader, german,...</td>\n",
       "      <td>[-0.30296353, -0.33825478, 0.24209553, -0.0382...</td>\n",
       "      <td>scorecard best lake scene leader german sleaze...</td>\n",
       "    </tr>\n",
       "    <tr>\n",
       "      <th>2</th>\n",
       "      <td>0</td>\n",
       "      <td>[coventry, caught, counter, flo, united, rival...</td>\n",
       "      <td>[-0.3682509, 0.26010576, 0.38839033, 0.1747563...</td>\n",
       "      <td>coventry caught counter flo united rival road ...</td>\n",
       "    </tr>\n",
       "    <tr>\n",
       "      <th>3</th>\n",
       "      <td>1</td>\n",
       "      <td>[pilgrim, know, progress, thatcher, facing, ba...</td>\n",
       "      <td>[-0.3820548, -0.32600626, 0.36784732, -0.03142...</td>\n",
       "      <td>pilgrim know progress thatcher facing ban mcil...</td>\n",
       "    </tr>\n",
       "    <tr>\n",
       "      <th>4</th>\n",
       "      <td>1</td>\n",
       "      <td>[hitches, horlocks, beckham, united, survive, ...</td>\n",
       "      <td>[-0.30124283, -0.22662897, 0.33770743, 0.15407...</td>\n",
       "      <td>hitches horlocks beckham united survive breast...</td>\n",
       "    </tr>\n",
       "  </tbody>\n",
       "</table>\n",
       "</div>"
      ],
      "text/plain": [
       "  Label                                               news  \\\n",
       "0     0  [operation, extract, leaked, report, scorecard...   \n",
       "1     0  [scorecard, best, lake, scene, leader, german,...   \n",
       "2     0  [coventry, caught, counter, flo, united, rival...   \n",
       "3     1  [pilgrim, know, progress, thatcher, facing, ba...   \n",
       "4     1  [hitches, horlocks, beckham, united, survive, ...   \n",
       "\n",
       "                                             doc_vec  \\\n",
       "0  [-0.22363636, 0.043663323, 0.40945154, -0.0905...   \n",
       "1  [-0.30296353, -0.33825478, 0.24209553, -0.0382...   \n",
       "2  [-0.3682509, 0.26010576, 0.38839033, 0.1747563...   \n",
       "3  [-0.3820548, -0.32600626, 0.36784732, -0.03142...   \n",
       "4  [-0.30124283, -0.22662897, 0.33770743, 0.15407...   \n",
       "\n",
       "                                            news_str  \n",
       "0  operation extract leaked report scorecard hugh...  \n",
       "1  scorecard best lake scene leader german sleaze...  \n",
       "2  coventry caught counter flo united rival road ...  \n",
       "3  pilgrim know progress thatcher facing ban mcil...  \n",
       "4  hitches horlocks beckham united survive breast...  "
      ]
     },
     "execution_count": 57,
     "metadata": {},
     "output_type": "execute_result"
    }
   ],
   "source": [
    "# a new dataframe containing only label, news, doc_vec\n",
    "newdf = pd.concat([df.Label,df.news,X_doc], axis = 1)\n",
    "\n",
    "# convert each row in the news column from a list of tokens to a string\n",
    "tokenstrlist = []\n",
    "for tokenlist in  df.news:\n",
    "    tokenstr = ' '.join(tokenlist)\n",
    "    tokenstrlist.append(tokenstr)\n",
    "\n",
    "# add the string format new as clolumn 'news_str' to the data frame\n",
    "newdf['news_str'] = pd.Series(tokenstrlist)\n",
    "\n",
    "# the final data frame is ready for modeling\n",
    "newdf.head()\n",
    "\n"
   ]
  },
  {
   "cell_type": "code",
   "execution_count": 58,
   "id": "f0830374",
   "metadata": {},
   "outputs": [],
   "source": [
    "newdf = newdf[newdf['Label'].isin(['0', '1'])]"
   ]
  },
  {
   "cell_type": "code",
   "execution_count": 59,
   "id": "c66a9226",
   "metadata": {},
   "outputs": [
    {
     "data": {
      "text/plain": [
       "dtype('O')"
      ]
     },
     "execution_count": 59,
     "metadata": {},
     "output_type": "execute_result"
    }
   ],
   "source": [
    "newdf['Label'].dtype"
   ]
  },
  {
   "cell_type": "code",
   "execution_count": 65,
   "id": "6b48032a",
   "metadata": {},
   "outputs": [],
   "source": [
    "\n",
    "newdf['Label'] = newdf['Label'].astype(int)\n"
   ]
  },
  {
   "cell_type": "code",
   "execution_count": 66,
   "id": "f8b507d5",
   "metadata": {},
   "outputs": [],
   "source": [
    "with open('label_news_docvec_newsstr.pkl', 'wb') as f:\n",
    "    pickle.dump(newdf, f)"
   ]
  },
  {
   "cell_type": "markdown",
   "id": "40670391",
   "metadata": {},
   "source": [
    "### Finding the best baseline Model\n",
    "##### every dataset is different\n",
    "We dont know which model works best for our data until we try. "
   ]
  },
  {
   "cell_type": "code",
   "execution_count": 67,
   "id": "201c50b7",
   "metadata": {},
   "outputs": [],
   "source": [
    "from sklearn.metrics import classification_report\n"
   ]
  },
  {
   "cell_type": "code",
   "execution_count": 68,
   "id": "f61cf7cf",
   "metadata": {},
   "outputs": [
    {
     "data": {
      "text/html": [
       "<div>\n",
       "<style scoped>\n",
       "    .dataframe tbody tr th:only-of-type {\n",
       "        vertical-align: middle;\n",
       "    }\n",
       "\n",
       "    .dataframe tbody tr th {\n",
       "        vertical-align: top;\n",
       "    }\n",
       "\n",
       "    .dataframe thead th {\n",
       "        text-align: right;\n",
       "    }\n",
       "</style>\n",
       "<table border=\"1\" class=\"dataframe\">\n",
       "  <thead>\n",
       "    <tr style=\"text-align: right;\">\n",
       "      <th></th>\n",
       "      <th>Label</th>\n",
       "      <th>news</th>\n",
       "      <th>doc_vec</th>\n",
       "      <th>news_str</th>\n",
       "    </tr>\n",
       "  </thead>\n",
       "  <tbody>\n",
       "    <tr>\n",
       "      <th>0</th>\n",
       "      <td>0</td>\n",
       "      <td>[operation, extract, leaked, report, scorecard...</td>\n",
       "      <td>[-0.22363636, 0.043663323, 0.40945154, -0.0905...</td>\n",
       "      <td>operation extract leaked report scorecard hugh...</td>\n",
       "    </tr>\n",
       "    <tr>\n",
       "      <th>1</th>\n",
       "      <td>0</td>\n",
       "      <td>[scorecard, best, lake, scene, leader, german,...</td>\n",
       "      <td>[-0.30296353, -0.33825478, 0.24209553, -0.0382...</td>\n",
       "      <td>scorecard best lake scene leader german sleaze...</td>\n",
       "    </tr>\n",
       "    <tr>\n",
       "      <th>2</th>\n",
       "      <td>0</td>\n",
       "      <td>[coventry, caught, counter, flo, united, rival...</td>\n",
       "      <td>[-0.3682509, 0.26010576, 0.38839033, 0.1747563...</td>\n",
       "      <td>coventry caught counter flo united rival road ...</td>\n",
       "    </tr>\n",
       "    <tr>\n",
       "      <th>3</th>\n",
       "      <td>1</td>\n",
       "      <td>[pilgrim, know, progress, thatcher, facing, ba...</td>\n",
       "      <td>[-0.3820548, -0.32600626, 0.36784732, -0.03142...</td>\n",
       "      <td>pilgrim know progress thatcher facing ban mcil...</td>\n",
       "    </tr>\n",
       "    <tr>\n",
       "      <th>4</th>\n",
       "      <td>1</td>\n",
       "      <td>[hitches, horlocks, beckham, united, survive, ...</td>\n",
       "      <td>[-0.30124283, -0.22662897, 0.33770743, 0.15407...</td>\n",
       "      <td>hitches horlocks beckham united survive breast...</td>\n",
       "    </tr>\n",
       "  </tbody>\n",
       "</table>\n",
       "</div>"
      ],
      "text/plain": [
       "   Label                                               news  \\\n",
       "0      0  [operation, extract, leaked, report, scorecard...   \n",
       "1      0  [scorecard, best, lake, scene, leader, german,...   \n",
       "2      0  [coventry, caught, counter, flo, united, rival...   \n",
       "3      1  [pilgrim, know, progress, thatcher, facing, ba...   \n",
       "4      1  [hitches, horlocks, beckham, united, survive, ...   \n",
       "\n",
       "                                             doc_vec  \\\n",
       "0  [-0.22363636, 0.043663323, 0.40945154, -0.0905...   \n",
       "1  [-0.30296353, -0.33825478, 0.24209553, -0.0382...   \n",
       "2  [-0.3682509, 0.26010576, 0.38839033, 0.1747563...   \n",
       "3  [-0.3820548, -0.32600626, 0.36784732, -0.03142...   \n",
       "4  [-0.30124283, -0.22662897, 0.33770743, 0.15407...   \n",
       "\n",
       "                                            news_str  \n",
       "0  operation extract leaked report scorecard hugh...  \n",
       "1  scorecard best lake scene leader german sleaze...  \n",
       "2  coventry caught counter flo united rival road ...  \n",
       "3  pilgrim know progress thatcher facing ban mcil...  \n",
       "4  hitches horlocks beckham united survive breast...  "
      ]
     },
     "execution_count": 68,
     "metadata": {},
     "output_type": "execute_result"
    }
   ],
   "source": [
    "with open('label_news_docvec_newsstr.pkl', 'rb') as r:\n",
    "    df = pickle.load(r)\n",
    "df.head()"
   ]
  },
  {
   "cell_type": "code",
   "execution_count": 69,
   "id": "0624c02b",
   "metadata": {},
   "outputs": [
    {
     "data": {
      "text/plain": [
       "array([-0.22363636,  0.04366332,  0.40945154, -0.09051756, -0.08044092,\n",
       "        0.11453656, -0.19472562,  0.07121391,  0.3338088 ,  0.17613934,\n",
       "       -0.3367713 , -0.32266426,  0.21298085,  0.25528452, -0.2730395 ,\n",
       "       -0.2188933 , -0.07294617, -0.28064996,  0.11466102,  0.23918723],\n",
       "      dtype=float32)"
      ]
     },
     "execution_count": 69,
     "metadata": {},
     "output_type": "execute_result"
    }
   ],
   "source": [
    "df.iloc[0,2][:20]"
   ]
  },
  {
   "cell_type": "code",
   "execution_count": 70,
   "id": "001d3a88",
   "metadata": {},
   "outputs": [
    {
     "data": {
      "text/plain": [
       "array([-0.22363636,  0.04366332,  0.40945154, -0.09051756, -0.08044092,\n",
       "        0.11453656, -0.19472562,  0.07121391,  0.3338088 ,  0.17613934,\n",
       "       -0.3367713 , -0.32266426,  0.21298085,  0.25528452, -0.2730395 ,\n",
       "       -0.2188933 , -0.07294617, -0.28064996,  0.11466102,  0.23918723],\n",
       "      dtype=float32)"
      ]
     },
     "execution_count": 70,
     "metadata": {},
     "output_type": "execute_result"
    }
   ],
   "source": [
    "df.iloc[0,2][:20]"
   ]
  },
  {
   "cell_type": "code",
   "execution_count": 71,
   "id": "b6862010",
   "metadata": {},
   "outputs": [
    {
     "data": {
      "text/plain": [
       "'operation extract leaked report scorecard hughes instant hit buoy blues jack get skate alex chaos maracana build united depleted leicester prevail elliott spoil everton party hungry spurs sense rich picking gunners wide easy target derby raise glass strupar debut double southgate strike leeds pay penalty hammers hand robson youthful lesson saints party wear wolf turned lamb stump mike catch testy gough taunt langer escape hit flintoff injury pile woe england hunters threaten jospin new battle somme kohl successor drawn scandal difference men woman sara denver nurse turned solicitor diana landmine crusade put tories panic yeltsin resignation caught opposition russian roulette sold recovering title hindrance'"
      ]
     },
     "execution_count": 71,
     "metadata": {},
     "output_type": "execute_result"
    }
   ],
   "source": [
    "df.iloc[0,3]"
   ]
  },
  {
   "cell_type": "code",
   "execution_count": 72,
   "id": "d9b3a3e4",
   "metadata": {},
   "outputs": [],
   "source": [
    "df_train=df.iloc[:3623,:] #85% for training and validation, 15% for testing"
   ]
  },
  {
   "cell_type": "markdown",
   "id": "9121e2b0",
   "metadata": {},
   "source": [
    "# Models"
   ]
  },
  {
   "cell_type": "code",
   "execution_count": 73,
   "id": "1776d250",
   "metadata": {},
   "outputs": [],
   "source": [
    "from sklearn import  svm, naive_bayes, neighbors, ensemble\n",
    "from sklearn.linear_model import LogisticRegression\n",
    "import xgboost as xgb\n",
    "\n",
    "lr_model = LogisticRegression()\n",
    "nb_model = naive_bayes.GaussianNB()\n",
    "knn_model = neighbors.KNeighborsClassifier()\n",
    "svc_model = svm.SVC(probability=True, gamma=\"scale\")\n",
    "rf_model = ensemble.RandomForestClassifier(n_estimators=100)\n",
    "et_model = ensemble.ExtraTreesClassifier(n_estimators=100)\n",
    "ada_model = ensemble.AdaBoostClassifier()\n",
    "xgb_model = xgb.XGBClassifier(max_depth=50, n_estimators=80, learning_rate=0.1, colsample_bytree=.7, gamma=0, \n",
    "                              reg_alpha=4, objective='binary:logistic', eta=0.3, silent=1, subsample=0.8)\n",
    "\n",
    "models = [\"lr_model\", \"nb_model\", \"knn_model\", \"svc_model\", \"rf_model\", \"et_model\", \"ada_model\", \"xgb_model\"]"
   ]
  },
  {
   "cell_type": "code",
   "execution_count": 74,
   "id": "94535110",
   "metadata": {},
   "outputs": [],
   "source": [
    "def baseline_model_filter(modellist, X, y):\n",
    "    ''' 1. split the train data further into train and validation (17%). \n",
    "        2. fit the train data into each model of the model list\n",
    "        3. get the classification report based on the model performance on validation data\n",
    "    '''\n",
    "    X_train, X_valid, y_train, y_valid = train_test_split(X,y, test_size = 0.17, random_state = 100)\n",
    "    for model_name in modellist:\n",
    "        curr_model = eval(model_name)\n",
    "        curr_model.fit(X_train, y_train) \n",
    "        print(f'{model_name} \\n report:{classification_report(y_valid, curr_model.predict(X_valid))}')"
   ]
  },
  {
   "cell_type": "markdown",
   "id": "0db2e9de",
   "metadata": {},
   "source": [
    "## Using Different word embedding techniques to filter the baseline models"
   ]
  },
  {
   "cell_type": "markdown",
   "id": "37b1906f",
   "metadata": {},
   "source": [
    "### Bag-Of-Words"
   ]
  },
  {
   "cell_type": "code",
   "execution_count": 75,
   "id": "83297e78",
   "metadata": {},
   "outputs": [
    {
     "name": "stdout",
     "output_type": "stream",
     "text": [
      "0\n"
     ]
    }
   ],
   "source": [
    "print(df_train['news_str'].isnull().sum())"
   ]
  },
  {
   "cell_type": "code",
   "execution_count": 76,
   "id": "5d3807b3",
   "metadata": {},
   "outputs": [],
   "source": [
    "count_vect = CountVectorizer(analyzer='word')\n",
    "X = count_vect.fit_transform(df_train.news_str).toarray()\n",
    "y = df_train.Label"
   ]
  },
  {
   "cell_type": "code",
   "execution_count": 77,
   "id": "a0cbe315",
   "metadata": {},
   "outputs": [
    {
     "name": "stderr",
     "output_type": "stream",
     "text": [
      "C:\\Users\\harsh\\anaconda3\\envs\\mygpu\\lib\\site-packages\\sklearn\\linear_model\\_logistic.py:458: ConvergenceWarning: lbfgs failed to converge (status=1):\n",
      "STOP: TOTAL NO. of ITERATIONS REACHED LIMIT.\n",
      "\n",
      "Increase the number of iterations (max_iter) or scale the data as shown in:\n",
      "    https://scikit-learn.org/stable/modules/preprocessing.html\n",
      "Please also refer to the documentation for alternative solver options:\n",
      "    https://scikit-learn.org/stable/modules/linear_model.html#logistic-regression\n",
      "  n_iter_i = _check_optimize_result(\n"
     ]
    },
    {
     "name": "stdout",
     "output_type": "stream",
     "text": [
      "lr_model \n",
      " report:              precision    recall  f1-score   support\n",
      "\n",
      "           0       0.45      0.44      0.45       284\n",
      "           1       0.53      0.54      0.54       332\n",
      "\n",
      "    accuracy                           0.50       616\n",
      "   macro avg       0.49      0.49      0.49       616\n",
      "weighted avg       0.49      0.50      0.49       616\n",
      "\n",
      "nb_model \n",
      " report:              precision    recall  f1-score   support\n",
      "\n",
      "           0       0.48      0.58      0.53       284\n",
      "           1       0.57      0.47      0.51       332\n",
      "\n",
      "    accuracy                           0.52       616\n",
      "   macro avg       0.53      0.53      0.52       616\n",
      "weighted avg       0.53      0.52      0.52       616\n",
      "\n",
      "knn_model \n",
      " report:              precision    recall  f1-score   support\n",
      "\n",
      "           0       0.50      0.18      0.26       284\n",
      "           1       0.55      0.84      0.66       332\n",
      "\n",
      "    accuracy                           0.54       616\n",
      "   macro avg       0.52      0.51      0.46       616\n",
      "weighted avg       0.52      0.54      0.48       616\n",
      "\n",
      "svc_model \n",
      " report:              precision    recall  f1-score   support\n",
      "\n",
      "           0       0.49      0.23      0.32       284\n",
      "           1       0.55      0.79      0.65       332\n",
      "\n",
      "    accuracy                           0.53       616\n",
      "   macro avg       0.52      0.51      0.48       616\n",
      "weighted avg       0.52      0.53      0.49       616\n",
      "\n",
      "rf_model \n",
      " report:              precision    recall  f1-score   support\n",
      "\n",
      "           0       0.48      0.33      0.39       284\n",
      "           1       0.55      0.69      0.61       332\n",
      "\n",
      "    accuracy                           0.52       616\n",
      "   macro avg       0.51      0.51      0.50       616\n",
      "weighted avg       0.51      0.52      0.51       616\n",
      "\n",
      "et_model \n",
      " report:              precision    recall  f1-score   support\n",
      "\n",
      "           0       0.47      0.38      0.42       284\n",
      "           1       0.54      0.63      0.58       332\n",
      "\n",
      "    accuracy                           0.51       616\n",
      "   macro avg       0.50      0.50      0.50       616\n",
      "weighted avg       0.51      0.51      0.51       616\n",
      "\n",
      "ada_model \n",
      " report:              precision    recall  f1-score   support\n",
      "\n",
      "           0       0.45      0.40      0.42       284\n",
      "           1       0.53      0.58      0.55       332\n",
      "\n",
      "    accuracy                           0.50       616\n",
      "   macro avg       0.49      0.49      0.49       616\n",
      "weighted avg       0.49      0.50      0.49       616\n",
      "\n",
      "[20:31:48] WARNING: C:\\Users\\dev-admin\\croot2\\xgboost-split_1675461376218\\work\\src\\learner.cc:767: \n",
      "Parameters: { \"silent\" } are not used.\n",
      "\n",
      "xgb_model \n",
      " report:              precision    recall  f1-score   support\n",
      "\n",
      "           0       0.44      0.35      0.39       284\n",
      "           1       0.53      0.62      0.57       332\n",
      "\n",
      "    accuracy                           0.49       616\n",
      "   macro avg       0.48      0.48      0.48       616\n",
      "weighted avg       0.48      0.49      0.48       616\n",
      "\n"
     ]
    }
   ],
   "source": [
    "baseline_model_filter(models, X, y)"
   ]
  },
  {
   "cell_type": "markdown",
   "id": "b59557ee",
   "metadata": {},
   "source": [
    "## Word level TF-IDF"
   ]
  },
  {
   "cell_type": "code",
   "execution_count": 78,
   "id": "3787c19a",
   "metadata": {},
   "outputs": [],
   "source": [
    "tfidf_vect = TfidfVectorizer(analyzer='word')\n",
    "X = tfidf_vect.fit_transform(df_train.news_str).toarray()\n",
    "y = df_train.Label"
   ]
  },
  {
   "cell_type": "code",
   "execution_count": null,
   "id": "4eac4335",
   "metadata": {},
   "outputs": [],
   "source": []
  },
  {
   "cell_type": "code",
   "execution_count": 79,
   "id": "fa1a259c",
   "metadata": {},
   "outputs": [
    {
     "name": "stdout",
     "output_type": "stream",
     "text": [
      "lr_model \n",
      " report:              precision    recall  f1-score   support\n",
      "\n",
      "           0       0.47      0.30      0.37       284\n",
      "           1       0.54      0.71      0.62       332\n",
      "\n",
      "    accuracy                           0.52       616\n",
      "   macro avg       0.51      0.51      0.49       616\n",
      "weighted avg       0.51      0.52      0.50       616\n",
      "\n",
      "nb_model \n",
      " report:              precision    recall  f1-score   support\n",
      "\n",
      "           0       0.49      0.51      0.50       284\n",
      "           1       0.56      0.54      0.55       332\n",
      "\n",
      "    accuracy                           0.53       616\n",
      "   macro avg       0.52      0.52      0.52       616\n",
      "weighted avg       0.53      0.53      0.53       616\n",
      "\n",
      "knn_model \n",
      " report:              precision    recall  f1-score   support\n",
      "\n",
      "           0       0.47      0.50      0.49       284\n",
      "           1       0.55      0.52      0.54       332\n",
      "\n",
      "    accuracy                           0.51       616\n",
      "   macro avg       0.51      0.51      0.51       616\n",
      "weighted avg       0.51      0.51      0.51       616\n",
      "\n",
      "svc_model \n",
      " report:              precision    recall  f1-score   support\n",
      "\n",
      "           0       0.41      0.12      0.19       284\n",
      "           1       0.53      0.85      0.65       332\n",
      "\n",
      "    accuracy                           0.51       616\n",
      "   macro avg       0.47      0.48      0.42       616\n",
      "weighted avg       0.47      0.51      0.44       616\n",
      "\n",
      "rf_model \n",
      " report:              precision    recall  f1-score   support\n",
      "\n",
      "           0       0.49      0.36      0.42       284\n",
      "           1       0.56      0.68      0.61       332\n",
      "\n",
      "    accuracy                           0.53       616\n",
      "   macro avg       0.52      0.52      0.51       616\n",
      "weighted avg       0.53      0.53      0.52       616\n",
      "\n",
      "et_model \n",
      " report:              precision    recall  f1-score   support\n",
      "\n",
      "           0       0.48      0.39      0.43       284\n",
      "           1       0.55      0.64      0.59       332\n",
      "\n",
      "    accuracy                           0.53       616\n",
      "   macro avg       0.52      0.52      0.51       616\n",
      "weighted avg       0.52      0.53      0.52       616\n",
      "\n",
      "ada_model \n",
      " report:              precision    recall  f1-score   support\n",
      "\n",
      "           0       0.47      0.27      0.35       284\n",
      "           1       0.54      0.73      0.62       332\n",
      "\n",
      "    accuracy                           0.52       616\n",
      "   macro avg       0.50      0.50      0.48       616\n",
      "weighted avg       0.51      0.52      0.49       616\n",
      "\n",
      "[20:52:07] WARNING: C:\\Users\\dev-admin\\croot2\\xgboost-split_1675461376218\\work\\src\\learner.cc:767: \n",
      "Parameters: { \"silent\" } are not used.\n",
      "\n",
      "xgb_model \n",
      " report:              precision    recall  f1-score   support\n",
      "\n",
      "           0       0.42      0.32      0.37       284\n",
      "           1       0.52      0.61      0.56       332\n",
      "\n",
      "    accuracy                           0.48       616\n",
      "   macro avg       0.47      0.47      0.46       616\n",
      "weighted avg       0.47      0.48      0.47       616\n",
      "\n"
     ]
    }
   ],
   "source": [
    "baseline_model_filter(models, X, y)"
   ]
  },
  {
   "cell_type": "markdown",
   "id": "dbfa111c",
   "metadata": {},
   "source": [
    "## Character Level TF-IDF"
   ]
  },
  {
   "cell_type": "code",
   "execution_count": 80,
   "id": "6df25932",
   "metadata": {},
   "outputs": [
    {
     "name": "stdout",
     "output_type": "stream",
     "text": [
      "lr_model \n",
      " report:              precision    recall  f1-score   support\n",
      "\n",
      "           0       0.62      0.05      0.10       284\n",
      "           1       0.55      0.97      0.70       332\n",
      "\n",
      "    accuracy                           0.55       616\n",
      "   macro avg       0.59      0.51      0.40       616\n",
      "weighted avg       0.58      0.55      0.42       616\n",
      "\n",
      "nb_model \n",
      " report:              precision    recall  f1-score   support\n",
      "\n",
      "           0       0.46      0.99      0.63       284\n",
      "           1       0.62      0.02      0.03       332\n",
      "\n",
      "    accuracy                           0.46       616\n",
      "   macro avg       0.54      0.50      0.33       616\n",
      "weighted avg       0.55      0.46      0.31       616\n",
      "\n",
      "knn_model \n",
      " report:              precision    recall  f1-score   support\n",
      "\n",
      "           0       0.45      0.47      0.46       284\n",
      "           1       0.53      0.52      0.52       332\n",
      "\n",
      "    accuracy                           0.49       616\n",
      "   macro avg       0.49      0.49      0.49       616\n",
      "weighted avg       0.49      0.49      0.49       616\n",
      "\n"
     ]
    },
    {
     "name": "stderr",
     "output_type": "stream",
     "text": [
      "C:\\Users\\harsh\\anaconda3\\envs\\mygpu\\lib\\site-packages\\sklearn\\metrics\\_classification.py:1344: UndefinedMetricWarning: Precision and F-score are ill-defined and being set to 0.0 in labels with no predicted samples. Use `zero_division` parameter to control this behavior.\n",
      "  _warn_prf(average, modifier, msg_start, len(result))\n",
      "C:\\Users\\harsh\\anaconda3\\envs\\mygpu\\lib\\site-packages\\sklearn\\metrics\\_classification.py:1344: UndefinedMetricWarning: Precision and F-score are ill-defined and being set to 0.0 in labels with no predicted samples. Use `zero_division` parameter to control this behavior.\n",
      "  _warn_prf(average, modifier, msg_start, len(result))\n",
      "C:\\Users\\harsh\\anaconda3\\envs\\mygpu\\lib\\site-packages\\sklearn\\metrics\\_classification.py:1344: UndefinedMetricWarning: Precision and F-score are ill-defined and being set to 0.0 in labels with no predicted samples. Use `zero_division` parameter to control this behavior.\n",
      "  _warn_prf(average, modifier, msg_start, len(result))\n"
     ]
    },
    {
     "name": "stdout",
     "output_type": "stream",
     "text": [
      "svc_model \n",
      " report:              precision    recall  f1-score   support\n",
      "\n",
      "           0       0.00      0.00      0.00       284\n",
      "           1       0.54      1.00      0.70       332\n",
      "\n",
      "    accuracy                           0.54       616\n",
      "   macro avg       0.27      0.50      0.35       616\n",
      "weighted avg       0.29      0.54      0.38       616\n",
      "\n",
      "rf_model \n",
      " report:              precision    recall  f1-score   support\n",
      "\n",
      "           0       0.46      0.42      0.44       284\n",
      "           1       0.54      0.57      0.55       332\n",
      "\n",
      "    accuracy                           0.50       616\n",
      "   macro avg       0.50      0.50      0.50       616\n",
      "weighted avg       0.50      0.50      0.50       616\n",
      "\n",
      "et_model \n",
      " report:              precision    recall  f1-score   support\n",
      "\n",
      "           0       0.44      0.38      0.41       284\n",
      "           1       0.53      0.59      0.56       332\n",
      "\n",
      "    accuracy                           0.50       616\n",
      "   macro avg       0.49      0.49      0.48       616\n",
      "weighted avg       0.49      0.50      0.49       616\n",
      "\n",
      "ada_model \n",
      " report:              precision    recall  f1-score   support\n",
      "\n",
      "           0       0.43      0.37      0.40       284\n",
      "           1       0.52      0.59      0.55       332\n",
      "\n",
      "    accuracy                           0.49       616\n",
      "   macro avg       0.48      0.48      0.47       616\n",
      "weighted avg       0.48      0.49      0.48       616\n",
      "\n",
      "[20:54:46] WARNING: C:\\Users\\dev-admin\\croot2\\xgboost-split_1675461376218\\work\\src\\learner.cc:767: \n",
      "Parameters: { \"silent\" } are not used.\n",
      "\n",
      "xgb_model \n",
      " report:              precision    recall  f1-score   support\n",
      "\n",
      "           0       0.46      0.45      0.45       284\n",
      "           1       0.54      0.54      0.54       332\n",
      "\n",
      "    accuracy                           0.50       616\n",
      "   macro avg       0.50      0.50      0.50       616\n",
      "weighted avg       0.50      0.50      0.50       616\n",
      "\n"
     ]
    }
   ],
   "source": [
    "tfidf_chars_vect = TfidfVectorizer(analyzer='char')\n",
    "\n",
    "X = tfidf_chars_vect.fit_transform(df_train.news_str).toarray()\n",
    "y = df_train.Label\n",
    "\n",
    "baseline_model_filter(models, X, y)"
   ]
  },
  {
   "cell_type": "markdown",
   "id": "42c49e0b",
   "metadata": {},
   "source": [
    "### Word2vec"
   ]
  },
  {
   "cell_type": "code",
   "execution_count": 82,
   "id": "a77a1820",
   "metadata": {},
   "outputs": [
    {
     "name": "stderr",
     "output_type": "stream",
     "text": [
      "C:\\Users\\harsh\\AppData\\Local\\Temp\\ipykernel_11980\\3845775326.py:2: FutureWarning: The behavior of `series[i:j]` with an integer-dtype index is deprecated. In a future version, this will be treated as *label-based* indexing, consistent with e.g. `series[i]` lookups. To retain the old behavior, use `series.iloc[i:j]`. To get the future behavior, use `series.loc[i:j]`.\n",
      "  y = np.array(list(df.Label[:3623]))\n"
     ]
    },
    {
     "name": "stdout",
     "output_type": "stream",
     "text": [
      "lr_model \n",
      " report:              precision    recall  f1-score   support\n",
      "\n",
      "           0       0.45      0.33      0.38       284\n",
      "           1       0.53      0.66      0.59       332\n",
      "\n",
      "    accuracy                           0.51       616\n",
      "   macro avg       0.49      0.49      0.49       616\n",
      "weighted avg       0.50      0.51      0.49       616\n",
      "\n",
      "nb_model \n",
      " report:              precision    recall  f1-score   support\n",
      "\n",
      "           0       0.45      0.43      0.44       284\n",
      "           1       0.53      0.55      0.54       332\n",
      "\n",
      "    accuracy                           0.50       616\n",
      "   macro avg       0.49      0.49      0.49       616\n",
      "weighted avg       0.50      0.50      0.50       616\n",
      "\n",
      "knn_model \n",
      " report:              precision    recall  f1-score   support\n",
      "\n",
      "           0       0.53      0.49      0.51       284\n",
      "           1       0.59      0.62      0.60       332\n",
      "\n",
      "    accuracy                           0.56       616\n",
      "   macro avg       0.56      0.56      0.56       616\n",
      "weighted avg       0.56      0.56      0.56       616\n",
      "\n",
      "svc_model \n",
      " report:              precision    recall  f1-score   support\n",
      "\n",
      "           0       0.46      0.15      0.23       284\n",
      "           1       0.54      0.85      0.66       332\n",
      "\n",
      "    accuracy                           0.53       616\n",
      "   macro avg       0.50      0.50      0.44       616\n",
      "weighted avg       0.50      0.53      0.46       616\n",
      "\n",
      "rf_model \n",
      " report:              precision    recall  f1-score   support\n",
      "\n",
      "           0       0.42      0.35      0.38       284\n",
      "           1       0.51      0.59      0.55       332\n",
      "\n",
      "    accuracy                           0.48       616\n",
      "   macro avg       0.47      0.47      0.47       616\n",
      "weighted avg       0.47      0.48      0.47       616\n",
      "\n",
      "et_model \n",
      " report:              precision    recall  f1-score   support\n",
      "\n",
      "           0       0.44      0.36      0.40       284\n",
      "           1       0.53      0.61      0.56       332\n",
      "\n",
      "    accuracy                           0.49       616\n",
      "   macro avg       0.48      0.48      0.48       616\n",
      "weighted avg       0.49      0.49      0.49       616\n",
      "\n",
      "ada_model \n",
      " report:              precision    recall  f1-score   support\n",
      "\n",
      "           0       0.41      0.32      0.36       284\n",
      "           1       0.51      0.61      0.55       332\n",
      "\n",
      "    accuracy                           0.48       616\n",
      "   macro avg       0.46      0.46      0.46       616\n",
      "weighted avg       0.47      0.48      0.47       616\n",
      "\n",
      "[21:07:51] WARNING: C:\\Users\\dev-admin\\croot2\\xgboost-split_1675461376218\\work\\src\\learner.cc:767: \n",
      "Parameters: { \"silent\" } are not used.\n",
      "\n",
      "xgb_model \n",
      " report:              precision    recall  f1-score   support\n",
      "\n",
      "           0       0.46      0.38      0.42       284\n",
      "           1       0.54      0.63      0.58       332\n",
      "\n",
      "    accuracy                           0.51       616\n",
      "   macro avg       0.50      0.50      0.50       616\n",
      "weighted avg       0.50      0.51      0.50       616\n",
      "\n"
     ]
    }
   ],
   "source": [
    "X = np.array(list(df_train.doc_vec))\n",
    "y = np.array(list(df.Label[:3623]))\n",
    "baseline_model_filter(models, X, y)"
   ]
  },
  {
   "cell_type": "markdown",
   "id": "142f5a3c",
   "metadata": {},
   "source": [
    "### see performance on the test data"
   ]
  },
  {
   "cell_type": "code",
   "execution_count": 85,
   "id": "fb4e55b6",
   "metadata": {},
   "outputs": [],
   "source": [
    "df_test = df.iloc[3623:,:]\n",
    "y_test = df_test.Label\n",
    "X_test = df_test.news_str"
   ]
  },
  {
   "cell_type": "code",
   "execution_count": 92,
   "id": "5561a1b4",
   "metadata": {},
   "outputs": [
    {
     "name": "stdout",
     "output_type": "stream",
     "text": [
      "GaussianNB() \n",
      " report:              precision    recall  f1-score   support\n",
      "\n",
      "           0       0.52      0.47      0.49       229\n",
      "           1       0.55      0.60      0.58       249\n",
      "\n",
      "    accuracy                           0.54       478\n",
      "   macro avg       0.54      0.53      0.53       478\n",
      "weighted avg       0.54      0.54      0.54       478\n",
      "\n"
     ]
    }
   ],
   "source": [
    "tfidf_chars_vect = TfidfVectorizer(analyzer='word')\n",
    "train_news = tfidf_chars_vect.fit(df_train.news_str)\n",
    "X_train_trans = train_news.transform(df_train.news_str).toarray()\n",
    "X_test_trans = train_news.transform(X_test).toarray()\n",
    "\n",
    "y_train = df_train.Label\n",
    "\n",
    "nb_model.fit(X_train_trans, y_train) \n",
    "\n",
    "\n",
    "print(f'{nb_model} \\n report:{classification_report(y_test, nb_model.predict(X_test_trans))}')"
   ]
  },
  {
   "cell_type": "code",
   "execution_count": 93,
   "id": "a8a9ef85",
   "metadata": {},
   "outputs": [
    {
     "data": {
      "text/html": [
       "<div>\n",
       "<style scoped>\n",
       "    .dataframe tbody tr th:only-of-type {\n",
       "        vertical-align: middle;\n",
       "    }\n",
       "\n",
       "    .dataframe tbody tr th {\n",
       "        vertical-align: top;\n",
       "    }\n",
       "\n",
       "    .dataframe thead th {\n",
       "        text-align: right;\n",
       "    }\n",
       "</style>\n",
       "<table border=\"1\" class=\"dataframe\">\n",
       "  <thead>\n",
       "    <tr style=\"text-align: right;\">\n",
       "      <th></th>\n",
       "      <th>Label</th>\n",
       "      <th>news</th>\n",
       "      <th>doc_vec</th>\n",
       "      <th>news_str</th>\n",
       "    </tr>\n",
       "  </thead>\n",
       "  <tbody>\n",
       "    <tr>\n",
       "      <th>0</th>\n",
       "      <td>0</td>\n",
       "      <td>[operation, extract, leaked, report, scorecard...</td>\n",
       "      <td>[-0.22363636, 0.043663323, 0.40945154, -0.0905...</td>\n",
       "      <td>operation extract leaked report scorecard hugh...</td>\n",
       "    </tr>\n",
       "    <tr>\n",
       "      <th>1</th>\n",
       "      <td>0</td>\n",
       "      <td>[scorecard, best, lake, scene, leader, german,...</td>\n",
       "      <td>[-0.30296353, -0.33825478, 0.24209553, -0.0382...</td>\n",
       "      <td>scorecard best lake scene leader german sleaze...</td>\n",
       "    </tr>\n",
       "    <tr>\n",
       "      <th>2</th>\n",
       "      <td>0</td>\n",
       "      <td>[coventry, caught, counter, flo, united, rival...</td>\n",
       "      <td>[-0.3682509, 0.26010576, 0.38839033, 0.1747563...</td>\n",
       "      <td>coventry caught counter flo united rival road ...</td>\n",
       "    </tr>\n",
       "    <tr>\n",
       "      <th>3</th>\n",
       "      <td>1</td>\n",
       "      <td>[pilgrim, know, progress, thatcher, facing, ba...</td>\n",
       "      <td>[-0.3820548, -0.32600626, 0.36784732, -0.03142...</td>\n",
       "      <td>pilgrim know progress thatcher facing ban mcil...</td>\n",
       "    </tr>\n",
       "    <tr>\n",
       "      <th>4</th>\n",
       "      <td>1</td>\n",
       "      <td>[hitches, horlocks, beckham, united, survive, ...</td>\n",
       "      <td>[-0.30124283, -0.22662897, 0.33770743, 0.15407...</td>\n",
       "      <td>hitches horlocks beckham united survive breast...</td>\n",
       "    </tr>\n",
       "  </tbody>\n",
       "</table>\n",
       "</div>"
      ],
      "text/plain": [
       "   Label                                               news  \\\n",
       "0      0  [operation, extract, leaked, report, scorecard...   \n",
       "1      0  [scorecard, best, lake, scene, leader, german,...   \n",
       "2      0  [coventry, caught, counter, flo, united, rival...   \n",
       "3      1  [pilgrim, know, progress, thatcher, facing, ba...   \n",
       "4      1  [hitches, horlocks, beckham, united, survive, ...   \n",
       "\n",
       "                                             doc_vec  \\\n",
       "0  [-0.22363636, 0.043663323, 0.40945154, -0.0905...   \n",
       "1  [-0.30296353, -0.33825478, 0.24209553, -0.0382...   \n",
       "2  [-0.3682509, 0.26010576, 0.38839033, 0.1747563...   \n",
       "3  [-0.3820548, -0.32600626, 0.36784732, -0.03142...   \n",
       "4  [-0.30124283, -0.22662897, 0.33770743, 0.15407...   \n",
       "\n",
       "                                            news_str  \n",
       "0  operation extract leaked report scorecard hugh...  \n",
       "1  scorecard best lake scene leader german sleaze...  \n",
       "2  coventry caught counter flo united rival road ...  \n",
       "3  pilgrim know progress thatcher facing ban mcil...  \n",
       "4  hitches horlocks beckham united survive breast...  "
      ]
     },
     "execution_count": 93,
     "metadata": {},
     "output_type": "execute_result"
    }
   ],
   "source": [
    "with open('label_news_docvec_newsstr.pkl', 'rb') as r:\n",
    "    df = pickle.load(r)\n",
    "df.head()"
   ]
  },
  {
   "cell_type": "markdown",
   "id": "763f0636",
   "metadata": {},
   "source": [
    "## Topic Modeling to vectors ( Unsupervised Learning)"
   ]
  },
  {
   "cell_type": "markdown",
   "id": "4d5b94ac",
   "metadata": {},
   "source": [
    "#### Data Allocation\n",
    "1. For Topic Modelling: 15% data set aside for testing. use the 85% for topic modelling\n",
    "2. Apply the topic model to the testing data to get the topic vectors\n",
    "3. Create the final train,valid, test files for AWS\n",
    "\n",
    "Topic Modeling Models\n",
    "1. Use HDP(Hierarchical Dirichlet Process) to decide topic size\n",
    "2. Use LDA (Latent Dirichlet Allocation to determine the topics"
   ]
  },
  {
   "cell_type": "code",
   "execution_count": 95,
   "id": "2a3e5317",
   "metadata": {},
   "outputs": [
    {
     "name": "stdout",
     "output_type": "stream",
     "text": [
      "3623 478\n"
     ]
    }
   ],
   "source": [
    "df_HDP_train = df.news.iloc[:3623]\n",
    "df_LDA_train = df.news_str.iloc[:3623]\n",
    "df_LDA_test = df.news_str.iloc[3623:]\n",
    "print(len(df_LDA_train), len(df_LDA_test))"
   ]
  },
  {
   "cell_type": "markdown",
   "id": "2ad63851",
   "metadata": {},
   "source": [
    "## HDP corpus and dictionary (need to be bag of words format)"
   ]
  },
  {
   "cell_type": "code",
   "execution_count": 96,
   "id": "8ff4df8d",
   "metadata": {},
   "outputs": [],
   "source": [
    "id2word_hdp = gensim.corpora.Dictionary(df_HDP_train)\n",
    "id2word_hdp.filter_extremes(no_below=10, no_above=0.30)\n",
    "id2word_hdp.compactify()\n",
    "id2word_hdp.save('train_dict_hdp')\n",
    "corpus_hdp = [id2word_hdp.doc2bow(doc) for doc in df_HDP_train]"
   ]
  },
  {
   "cell_type": "markdown",
   "id": "60745cf7",
   "metadata": {},
   "source": [
    "## Use HDP model to decide the maxium topic numbers"
   ]
  },
  {
   "cell_type": "code",
   "execution_count": 97,
   "id": "bc4202bd",
   "metadata": {},
   "outputs": [],
   "source": [
    "from gensim.models import HdpModel\n",
    "hdp = HdpModel(corpus_hdp, id2word_hdp)"
   ]
  },
  {
   "cell_type": "code",
   "execution_count": 98,
   "id": "123f45ea",
   "metadata": {},
   "outputs": [
    {
     "data": {
      "text/plain": [
       "20"
      ]
     },
     "execution_count": 98,
     "metadata": {},
     "output_type": "execute_result"
    }
   ],
   "source": [
    "len(hdp.print_topics())"
   ]
  },
  {
   "cell_type": "code",
   "execution_count": 99,
   "id": "e5a19d52",
   "metadata": {},
   "outputs": [
    {
     "data": {
      "text/plain": [
       "[(0,\n",
       "  '0.004*israel + 0.004*china + 0.003*people + 0.003*country + 0.003*war + 0.003*russia + 0.003*one + 0.003*america + 0.003*israeli + 0.003*uk'),\n",
       " (1,\n",
       "  '0.004*review + 0.002*leader + 0.002*football + 0.002*london + 0.002*letters + 0.002*back + 0.002*get + 0.002*city + 0.002*face + 0.002*united'),\n",
       " (2,\n",
       "  '0.005*football + 0.003*england + 0.003*rugby + 0.003*united + 0.003*cricket + 0.002*city + 0.002*cup + 0.002*league + 0.002*union + 0.002*review'),\n",
       " (3,\n",
       "  '0.002*cd + 0.002*review + 0.002*letters + 0.002*leader + 0.001*day + 0.001*football + 0.001*obituary + 0.001*take + 0.001*hit + 0.001*england'),\n",
       " (4,\n",
       "  '0.002*cd + 0.001*back + 0.001*review + 0.001*call + 0.001*cup + 0.001*league + 0.001*take + 0.001*top + 0.001*chelsea + 0.001*obituary'),\n",
       " (5,\n",
       "  '0.002*nan + 0.001*obituary + 0.001*london + 0.001*leader + 0.001*diary + 0.001*letters + 0.001*cd + 0.001*review + 0.001*get + 0.001*make'),\n",
       " (6,\n",
       "  '0.002*england + 0.002*labour + 0.001*review + 0.001*blair + 0.001*part + 0.001*set + 0.001*plan + 0.001*go + 0.001*home + 0.001*hit'),\n",
       " (7,\n",
       "  '0.005*review + 0.002*england + 0.001*letters + 0.001*day + 0.001*mumbai + 0.001*man + 0.001*end + 0.001*go + 0.001*may + 0.001*bad'),\n",
       " (8,\n",
       "  '0.002*city + 0.002*football + 0.002*united + 0.002*manchester + 0.001*cd + 0.001*west + 0.001*review + 0.001*ipswich + 0.001*arsenal + 0.001*group'),\n",
       " (9,\n",
       "  '0.001*bbc + 0.001*united + 0.001*england + 0.001*take + 0.001*day + 0.001*west + 0.001*club + 0.001*ranking + 0.001*race + 0.001*hit'),\n",
       " (10,\n",
       "  '0.001*morsi + 0.001*face + 0.001*labour + 0.001*plan + 0.001*first + 0.001*war + 0.001*foot + 0.001*man + 0.001*back + 0.001*lead'),\n",
       " (11,\n",
       "  '0.001*top + 0.001*cup + 0.001*firework + 0.001*england + 0.001*woman + 0.001*review + 0.001*half + 0.001*pardon + 0.001*powell + 0.001*childcare'),\n",
       " (12,\n",
       "  '0.003*review + 0.001*theatre + 0.001*england + 0.001*football + 0.001*boost + 0.001*croatia + 0.001*shake + 0.001*dan + 0.001*outbreak + 0.001*complete'),\n",
       " (13,\n",
       "  '0.001*review + 0.001*buy + 0.001*glory + 0.001*cup + 0.001*get + 0.001*london + 0.001*tories + 0.001*linux + 0.001*fee + 0.001*johannesburg'),\n",
       " (14,\n",
       "  '0.001*united + 0.001*review + 0.001*manchester + 0.001*required + 0.001*shrug + 0.001*ramos + 0.001*end + 0.001*mccain + 0.001*safin + 0.001*take'),\n",
       " (15,\n",
       "  '0.002*release + 0.001*audience + 0.001*first + 0.001*hadley + 0.001*clegg + 0.001*may + 0.001*united + 0.001*amp + 0.001*case + 0.001*depleted'),\n",
       " (16,\n",
       "  '0.001*pope + 0.001*swimming + 0.001*renewable + 0.001*ask + 0.001*report + 0.001*home + 0.001*transaction + 0.001*blair + 0.001*category + 0.001*ny'),\n",
       " (17,\n",
       "  '0.003*review + 0.001*pop + 0.001*may + 0.001*elisabeth + 0.001*dissolved + 0.001*purchase + 0.001*scrutiny + 0.001*dec + 0.001*head + 0.001*booze'),\n",
       " (18,\n",
       "  '0.001*football + 0.001*three + 0.001*marcel + 0.001*jacob + 0.001*nightmare + 0.001*race + 0.001*tell + 0.001*care + 0.001*pharma + 0.001*talk'),\n",
       " (19,\n",
       "  '0.002*review + 0.001*earthquake + 0.001*fbi + 0.001*put + 0.001*surround + 0.001*literature + 0.001*blogger + 0.001*character + 0.001*curb + 0.001*card')]"
      ]
     },
     "execution_count": 99,
     "metadata": {},
     "output_type": "execute_result"
    }
   ],
   "source": [
    "hdp.print_topics(num_topics=20)"
   ]
  },
  {
   "cell_type": "markdown",
   "id": "a6200261",
   "metadata": {},
   "source": [
    "## LDA Modeling for topic vectors"
   ]
  },
  {
   "cell_type": "code",
   "execution_count": 105,
   "id": "e9d8a65c",
   "metadata": {},
   "outputs": [],
   "source": [
    "from nltk.corpus import stopwords\n",
    "from sklearn.feature_extraction import _stop_words\n",
    "# we need to have more stopwords for topic modeling than for word2vec.\n",
    "# NLTK + SKlearn + self definded\n",
    "sk_stop = list(_stop_words.ENGLISH_STOP_WORDS)\n",
    "mywords = ['whilst', 'say', 'says', 'today','yesterday', 'news', 'tomorrow','iii', 'ii', 'like', 'ha','wa']\n",
    "final_stop = stopwords.words('english') + mywords + sk_stop"
   ]
  },
  {
   "cell_type": "code",
   "execution_count": 106,
   "id": "3b25ed6d",
   "metadata": {},
   "outputs": [],
   "source": [
    "tfv = TfidfVectorizer(stop_words = final_stop, ngram_range = (1, 2), max_df = 0.95)\n",
    "doc_word = tfv.fit_transform(df_LDA_train).transpose()\n",
    "corpus = matutils.Sparse2Corpus(doc_word)\n",
    "id2word = dict((v, k) for k, v in tfv.vocabulary_.items())"
   ]
  },
  {
   "cell_type": "code",
   "execution_count": 107,
   "id": "faf95ba5",
   "metadata": {},
   "outputs": [
    {
     "ename": "AttributeError",
     "evalue": "'list' object has no attribute 'LdaModel'",
     "output_type": "error",
     "traceback": [
      "\u001b[1;31m---------------------------------------------------------------------------\u001b[0m",
      "\u001b[1;31mAttributeError\u001b[0m                            Traceback (most recent call last)",
      "Cell \u001b[1;32mIn[107], line 7\u001b[0m\n\u001b[0;32m      5\u001b[0m \u001b[38;5;28;01mwith\u001b[39;00m warnings\u001b[38;5;241m.\u001b[39mcatch_warnings():\n\u001b[0;32m      6\u001b[0m     warnings\u001b[38;5;241m.\u001b[39msimplefilter(\u001b[38;5;124m'\u001b[39m\u001b[38;5;124mignore\u001b[39m\u001b[38;5;124m'\u001b[39m)\n\u001b[1;32m----> 7\u001b[0m     lda \u001b[38;5;241m=\u001b[39m \u001b[43mmodels\u001b[49m\u001b[38;5;241;43m.\u001b[39;49m\u001b[43mLdaModel\u001b[49m(corpus\u001b[38;5;241m=\u001b[39mcorpus, num_topics\u001b[38;5;241m=\u001b[39m\u001b[38;5;241m20\u001b[39m, id2word\u001b[38;5;241m=\u001b[39mid2word, passes\u001b[38;5;241m=\u001b[39m\u001b[38;5;241m5\u001b[39m, random_state \u001b[38;5;241m=\u001b[39m \u001b[38;5;241m200\u001b[39m )\n",
      "\u001b[1;31mAttributeError\u001b[0m: 'list' object has no attribute 'LdaModel'"
     ]
    }
   ],
   "source": [
    "import logging\n",
    "logging.basicConfig(filename='lda_model.log', format='%(asctime)s : %(levelname)s : %(message)s', level=logging.INFO)\n",
    "\n",
    "import warnings\n",
    "with warnings.catch_warnings():\n",
    "    warnings.simplefilter('ignore')\n",
    "    lda = models.LdaModel(corpus=corpus, num_topics=20, id2word=id2word, passes=5, random_state = 200 )"
   ]
  },
  {
   "cell_type": "code",
   "execution_count": null,
   "id": "9a514f86",
   "metadata": {},
   "outputs": [],
   "source": []
  }
 ],
 "metadata": {
  "kernelspec": {
   "display_name": "Python 3 (ipykernel)",
   "language": "python",
   "name": "python3"
  },
  "language_info": {
   "codemirror_mode": {
    "name": "ipython",
    "version": 3
   },
   "file_extension": ".py",
   "mimetype": "text/x-python",
   "name": "python",
   "nbconvert_exporter": "python",
   "pygments_lexer": "ipython3",
   "version": "3.9.16"
  }
 },
 "nbformat": 4,
 "nbformat_minor": 5
}
